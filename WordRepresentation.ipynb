{
  "nbformat": 4,
  "nbformat_minor": 0,
  "metadata": {
    "colab": {
      "provenance": [],
      "authorship_tag": "ABX9TyOnpJbvzeCKnNpFsJabaAdg",
      "include_colab_link": true
    },
    "kernelspec": {
      "name": "python3",
      "display_name": "Python 3"
    },
    "language_info": {
      "name": "python"
    }
  },
  "cells": [
    {
      "cell_type": "markdown",
      "metadata": {
        "id": "view-in-github",
        "colab_type": "text"
      },
      "source": [
        "<a href=\"https://colab.research.google.com/github/LeeJiwoo982/DL_study/blob/main/WordRepresentation.ipynb\" target=\"_parent\"><img src=\"https://colab.research.google.com/assets/colab-badge.svg\" alt=\"Open In Colab\"/></a>"
      ]
    },
    {
      "cell_type": "markdown",
      "source": [
        "# BoW 직접 구현"
      ],
      "metadata": {
        "id": "Vrpe_4CgCJ_n"
      }
    },
    {
      "cell_type": "code",
      "execution_count": 1,
      "metadata": {
        "id": "MXvrhNkCCJhA"
      },
      "outputs": [],
      "source": [
        "docs = ['오늘 동물원에서 코끼리 원숭이를 보고 코끼리 원숭이에게 먹이를 줬어',\n",
        "        '오늘 동물원에서 원숭이에게 사과를 줬어']"
      ]
    },
    {
      "cell_type": "code",
      "source": [
        "doc_ls = []\n",
        "for doc in docs :\n",
        "    doc_ls.append(doc.split(' '))\n",
        "\n",
        "doc_ls"
      ],
      "metadata": {
        "colab": {
          "base_uri": "https://localhost:8080/"
        },
        "id": "joGwBuUHCcyz",
        "outputId": "b1f00afe-392d-4562-d7dd-ee671c89a3da"
      },
      "execution_count": 2,
      "outputs": [
        {
          "output_type": "execute_result",
          "data": {
            "text/plain": [
              "[['오늘', '동물원에서', '코끼리', '원숭이를', '보고', '코끼리', '원숭이에게', '먹이를', '줬어'],\n",
              " ['오늘', '동물원에서', '원숭이에게', '사과를', '줬어']]"
            ]
          },
          "metadata": {},
          "execution_count": 2
        }
      ]
    },
    {
      "cell_type": "markdown",
      "source": [
        "## 고유단어(유니크 토큰) 구하기"
      ],
      "metadata": {
        "id": "GSQm2rCtVZek"
      }
    },
    {
      "cell_type": "code",
      "source": [
        "token_ls = set()\n",
        "for tokens in doc_ls :\n",
        "    for token in tokens :\n",
        "        token_ls.add(token)\n",
        "token_ls = list(token_ls)\n",
        "token_ls"
      ],
      "metadata": {
        "colab": {
          "base_uri": "https://localhost:8080/"
        },
        "id": "TvEgqdyuCw02",
        "outputId": "ad74603a-a6e3-4d86-8690-24cdf93d474a"
      },
      "execution_count": 26,
      "outputs": [
        {
          "output_type": "execute_result",
          "data": {
            "text/plain": [
              "['동물원에서', '줬어', '오늘', '코끼리', '먹이를', '원숭이를', '사과를', '보고', '원숭이에게']"
            ]
          },
          "metadata": {},
          "execution_count": 26
        }
      ]
    },
    {
      "cell_type": "markdown",
      "source": [
        "문서를 공백으로 스플릿.  \n",
        "고유 단어를 구하기(토큰)  \n",
        "토큰에 인덱스 붙이기  \n"
      ],
      "metadata": {
        "id": "u2pED_ofUEMN"
      }
    },
    {
      "cell_type": "markdown",
      "source": [
        "# 선생님"
      ],
      "metadata": {
        "id": "oxNmtL3mea3A"
      }
    },
    {
      "cell_type": "code",
      "source": [
        "docs = ['오늘 동물원에서 코끼리 원숭이를 보고 코끼리 원숭이에게 먹이를 줬어',\n",
        "        '오늘 동물원에서 원숭이에게 사과를 줬어']\n",
        "\n",
        "doc_ls = []\n",
        "for doc in docs :\n",
        "    doc_ls.append(doc.split(' '))\n",
        "\n",
        "doc_ls"
      ],
      "metadata": {
        "colab": {
          "base_uri": "https://localhost:8080/"
        },
        "id": "ZImQbqHZedCV",
        "outputId": "95e4dd1c-4799-4560-d3c4-be49cdf2b6c1"
      },
      "execution_count": 34,
      "outputs": [
        {
          "output_type": "execute_result",
          "data": {
            "text/plain": [
              "[['오늘', '동물원에서', '코끼리', '원숭이를', '보고', '코끼리', '원숭이에게', '먹이를', '줬어'],\n",
              " ['오늘', '동물원에서', '원숭이에게', '사과를', '줬어']]"
            ]
          },
          "metadata": {},
          "execution_count": 34
        }
      ]
    },
    {
      "cell_type": "markdown",
      "source": [
        "## 유니크한 토큰 사전 구하기"
      ],
      "metadata": {
        "id": "0RU0PRpyenAH"
      }
    },
    {
      "cell_type": "code",
      "source": [
        "from collections import defaultdict\n",
        "\n",
        "word2id = defaultdict(lambda : len(word2id))\n",
        "\n",
        "for doc in doc_ls :\n",
        "    for token in doc :\n",
        "        word2id[token]\n",
        "print(word2id)"
      ],
      "metadata": {
        "colab": {
          "base_uri": "https://localhost:8080/"
        },
        "id": "LZFoTk54eghx",
        "outputId": "27c82b0b-73d9-4d42-e07d-aa0c8e0232a2"
      },
      "execution_count": 40,
      "outputs": [
        {
          "output_type": "stream",
          "name": "stdout",
          "text": [
            "defaultdict(<function <lambda> at 0x7f11d310a7a0>, {'오늘': 0, '동물원에서': 1, '코끼리': 2, '원숭이를': 3, '보고': 4, '원숭이에게': 5, '먹이를': 6, '줬어': 7, '사과를': 8})\n"
          ]
        }
      ]
    },
    {
      "cell_type": "code",
      "source": [
        "import numpy as np\n",
        "BoW_ls = []\n",
        "\n",
        "for i, doc in enumerate(doc_ls) :\n",
        "    bow = np.zeros(len(word2id), dtype=int)\n",
        "    for token in doc :\n",
        "        bow[word2id[token]] += 1\n",
        "    BoW_ls.append(bow.tolist())\n",
        "\n",
        "BoW_ls"
      ],
      "metadata": {
        "colab": {
          "base_uri": "https://localhost:8080/"
        },
        "id": "BRSGeaZSe3Pl",
        "outputId": "fa81fb3a-3cd3-4aeb-f225-3a6a3d2fb66a"
      },
      "execution_count": 46,
      "outputs": [
        {
          "output_type": "execute_result",
          "data": {
            "text/plain": [
              "[[1, 1, 2, 1, 1, 1, 1, 1, 0], [1, 1, 0, 0, 0, 1, 0, 1, 1]]"
            ]
          },
          "metadata": {},
          "execution_count": 46
        }
      ]
    },
    {
      "cell_type": "markdown",
      "source": [
        "# TDM / DTM\n"
      ],
      "metadata": {
        "id": "ttEoPOHYhgXw"
      }
    },
    {
      "cell_type": "code",
      "source": [
        "doc = ['동물원 원숭이',\n",
        "       '동물원 원숭이 바나나',\n",
        "       '엄마 코끼리 아기 코끼리',\n",
        "       '원숭이 바나나 코끼리 바나나']\n",
        "doc_ls = []\n",
        "for d in doc :\n",
        "    doc_ls.append(d.split(' '))\n",
        "\n",
        "doc_ls"
      ],
      "metadata": {
        "colab": {
          "base_uri": "https://localhost:8080/"
        },
        "id": "ljrkzJoXgBjT",
        "outputId": "5113783f-a3be-45c5-dd44-557e07384542"
      },
      "execution_count": 13,
      "outputs": [
        {
          "output_type": "execute_result",
          "data": {
            "text/plain": [
              "[['동물원', '원숭이'],\n",
              " ['동물원', '원숭이', '바나나'],\n",
              " ['엄마', '코끼리', '아기', '코끼리'],\n",
              " ['원숭이', '바나나', '코끼리', '바나나']]"
            ]
          },
          "metadata": {},
          "execution_count": 13
        }
      ]
    },
    {
      "cell_type": "code",
      "source": [
        "from collections import defaultdict\n",
        "\n",
        "word2id = defaultdict(lambda : len(word2id))\n",
        "\n",
        "# for doc in doc_ls :\n",
        "#     for token in doc :\n",
        "#         word2id[token]\n",
        "# print(word2id)\n",
        "\n",
        "[word2id[token] for doc in doc_ls for token in doc]\n",
        "word2id"
      ],
      "metadata": {
        "colab": {
          "base_uri": "https://localhost:8080/"
        },
        "id": "Lznb7YsxpdTN",
        "outputId": "eba86ce2-d3d5-4254-c8f5-8ac72c43ba99"
      },
      "execution_count": 17,
      "outputs": [
        {
          "output_type": "execute_result",
          "data": {
            "text/plain": [
              "defaultdict(<function __main__.<lambda>()>,\n",
              "            {'동물원': 0, '원숭이': 1, '바나나': 2, '엄마': 3, '코끼리': 4, '아기': 5})"
            ]
          },
          "metadata": {},
          "execution_count": 17
        }
      ]
    },
    {
      "cell_type": "code",
      "source": [
        "import numpy as np\n",
        "\n",
        "TDM = np.zeros((len(word2id), len(doc_ls)), dtype=int)\n",
        "\n",
        "for i, doc in enumerate(doc_ls) :\n",
        "    for token in doc :\n",
        "        TDM[word2id[token], i] += 1\n",
        "    # TDM.append(bow.tolist())\n",
        "\n",
        "TDM"
      ],
      "metadata": {
        "colab": {
          "base_uri": "https://localhost:8080/"
        },
        "id": "wqUagUurpq81",
        "outputId": "63e3a44e-ddda-4209-b4fe-3362f7945623"
      },
      "execution_count": 20,
      "outputs": [
        {
          "output_type": "execute_result",
          "data": {
            "text/plain": [
              "array([[1, 1, 0, 0],\n",
              "       [1, 1, 0, 1],\n",
              "       [0, 1, 0, 2],\n",
              "       [0, 0, 1, 0],\n",
              "       [0, 0, 2, 1],\n",
              "       [0, 0, 1, 0]])"
            ]
          },
          "metadata": {},
          "execution_count": 20
        }
      ]
    },
    {
      "cell_type": "code",
      "source": [],
      "metadata": {
        "id": "_xhrlLPftvMi"
      },
      "execution_count": null,
      "outputs": []
    },
    {
      "cell_type": "markdown",
      "source": [
        "## sklearn"
      ],
      "metadata": {
        "id": "QciNUI4pt9y-"
      }
    },
    {
      "cell_type": "code",
      "source": [
        "docs = ['동물원 코끼리',\n",
        "        '동물원 원숭이 바나나',\n",
        "        '엄마 코끼리 아기 코끼리',\n",
        "        '원숭이 바나나 코끼리 바나나']"
      ],
      "metadata": {
        "id": "vwaeQWvsuAdY"
      },
      "execution_count": 21,
      "outputs": []
    },
    {
      "cell_type": "code",
      "source": [
        "from sklearn.feature_extraction.text import CounterVectorizer\n",
        "count_vect"
      ],
      "metadata": {
        "id": "I0BO9cBIuNWj"
      },
      "execution_count": null,
      "outputs": []
    }
  ]
}