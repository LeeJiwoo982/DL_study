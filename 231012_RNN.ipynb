{
  "nbformat": 4,
  "nbformat_minor": 0,
  "metadata": {
    "colab": {
      "provenance": [],
      "authorship_tag": "ABX9TyNhTE0PCp/FUJDabaks7C0U",
      "include_colab_link": true
    },
    "kernelspec": {
      "name": "python3",
      "display_name": "Python 3"
    },
    "language_info": {
      "name": "python"
    }
  },
  "cells": [
    {
      "cell_type": "markdown",
      "metadata": {
        "id": "view-in-github",
        "colab_type": "text"
      },
      "source": [
        "<a href=\"https://colab.research.google.com/github/LeeJiwoo982/DL_study/blob/main/231012_RNN.ipynb\" target=\"_parent\"><img src=\"https://colab.research.google.com/assets/colab-badge.svg\" alt=\"Open In Colab\"/></a>"
      ]
    },
    {
      "cell_type": "code",
      "execution_count": 1,
      "metadata": {
        "id": "K4QXHT7sR1hd"
      },
      "outputs": [],
      "source": [
        "import numpy as np\n",
        "import tensorflow as tf\n",
        "from tensorflow import keras\n",
        "from tensorflow.keras import layers"
      ]
    },
    {
      "cell_type": "code",
      "source": [
        "train_X = [[1,2,3,4,5],\n",
        "           [2,4,6,8,10],\n",
        "           [1,3,5,7,9],\n",
        "           [0,2,4,6,8]]\n",
        "print(np.shape(train_X))"
      ],
      "metadata": {
        "colab": {
          "base_uri": "https://localhost:8080/"
        },
        "id": "gQlWvR4SR7tH",
        "outputId": "ffae59e5-133d-41e4-9175-1a39b4b6c976"
      },
      "execution_count": 2,
      "outputs": [
        {
          "output_type": "stream",
          "name": "stdout",
          "text": [
            "(4, 5)\n"
          ]
        }
      ]
    },
    {
      "cell_type": "code",
      "source": [
        "train_X = np.array(train_X, dtype=np.float32)\n",
        "print(train_X.shape)"
      ],
      "metadata": {
        "colab": {
          "base_uri": "https://localhost:8080/"
        },
        "id": "b0ILy-tOfbzh",
        "outputId": "5599ca56-0c1e-4ef4-eb4e-9bb76c6759ff"
      },
      "execution_count": 3,
      "outputs": [
        {
          "output_type": "stream",
          "name": "stdout",
          "text": [
            "(4, 5)\n"
          ]
        }
      ]
    },
    {
      "cell_type": "markdown",
      "source": [
        "RNN은 3차원 tensor로 값을 입력받아 3차원으로 변환"
      ],
      "metadata": {
        "id": "r9YUjKJxgP7R"
      }
    },
    {
      "cell_type": "code",
      "source": [
        "train_X = np.array([train_X],dtype=np.float32)\n",
        "print(train_X.shape)"
      ],
      "metadata": {
        "colab": {
          "base_uri": "https://localhost:8080/"
        },
        "id": "TjW4tR9ggB7P",
        "outputId": "cacb015f-0f71-471b-b3ae-f4825090397c"
      },
      "execution_count": 4,
      "outputs": [
        {
          "output_type": "stream",
          "name": "stdout",
          "text": [
            "(1, 4, 5)\n"
          ]
        }
      ]
    },
    {
      "cell_type": "markdown",
      "source": [
        "중요한 파라미터인 return_sequences와 return_state 두 파라미터 default값은 False"
      ],
      "metadata": {
        "id": "wpeFSWCogpVD"
      }
    },
    {
      "cell_type": "markdown",
      "source": [
        "* return_sequence=False 일 떄 마지막 시점 hidden state만 출력\n",
        "\n",
        "1) 그렇다면 return_sequence가 True라면?"
      ],
      "metadata": {
        "id": "myefBzNzg0p2"
      }
    },
    {
      "cell_type": "code",
      "source": [
        "hidden_size = 3\n",
        "cell = layers.SimpleRNNCell(units=hidden_size)\n",
        "rnn = layers.RNN(cell, return_sequences=True, return_state=False)\n",
        "hidden_state=rnn(train_X)\n",
        "\n",
        "print('train_X: {} \\t shape : {}'.format(train_X, train_X.shape))\n",
        "print('hidden_state : {} \\t shape : {}'.format(hidden_state, hidden_state.shape))\n",
        "\n",
        "#모든 시점의 hidden_state가 출력된다."
      ],
      "metadata": {
        "colab": {
          "base_uri": "https://localhost:8080/"
        },
        "id": "pOC9b48_gjuT",
        "outputId": "f2c6a277-e4fa-4a20-b816-6cb0da4309b9"
      },
      "execution_count": 5,
      "outputs": [
        {
          "output_type": "stream",
          "name": "stdout",
          "text": [
            "train_X: [[[ 1.  2.  3.  4.  5.]\n",
            "  [ 2.  4.  6.  8. 10.]\n",
            "  [ 1.  3.  5.  7.  9.]\n",
            "  [ 0.  2.  4.  6.  8.]]] \t shape : (1, 4, 5)\n",
            "hidden_state : [[[ 0.18354577 -0.99169743 -0.99998945]\n",
            "  [-0.5377328  -0.9997329  -1.        ]\n",
            "  [-0.36032334 -0.99967974 -1.        ]\n",
            "  [ 0.08463638 -0.9989472  -1.        ]]] \t shape : (1, 4, 3)\n"
          ]
        }
      ]
    },
    {
      "cell_type": "markdown",
      "source": [
        "2)return sequence=False"
      ],
      "metadata": {
        "id": "GGWs6NJMijvB"
      }
    },
    {
      "cell_type": "code",
      "source": [
        "cell = layers.SimpleRNNCell(units=hidden_size)\n",
        "rnn = layers.RNN(cell, return_sequences=False, return_state=False)\n",
        "hidden_state=rnn(train_X)\n",
        "\n",
        "print('train_X: {} \\t shape : {}'.format(train_X, train_X.shape))\n",
        "print('hidden_state : {} \\t shape : {}'.format(hidden_state, hidden_state.shape))\n",
        "#마지막 시점의 hidden_state 출력"
      ],
      "metadata": {
        "colab": {
          "base_uri": "https://localhost:8080/"
        },
        "id": "o_6ydH9ahliR",
        "outputId": "a9fd31fb-3908-40f1-cee8-a7a2eca6250e"
      },
      "execution_count": 6,
      "outputs": [
        {
          "output_type": "stream",
          "name": "stdout",
          "text": [
            "train_X: [[[ 1.  2.  3.  4.  5.]\n",
            "  [ 2.  4.  6.  8. 10.]\n",
            "  [ 1.  3.  5.  7.  9.]\n",
            "  [ 0.  2.  4.  6.  8.]]] \t shape : (1, 4, 5)\n",
            "hidden_state : [[-0.9914199  0.9998291 -0.4724366]] \t shape : (1, 3)\n"
          ]
        }
      ]
    },
    {
      "cell_type": "markdown",
      "source": [
        "return_state = True"
      ],
      "metadata": {
        "id": "k0RtRl7SjDFi"
      }
    },
    {
      "cell_type": "code",
      "source": [
        "ell = layers.SimpleRNNCell(units=hidden_size)\n",
        "rnn = layers.RNN(cell, return_sequences=True, return_state=True)\n",
        "hidden_state, last_state=rnn(train_X)\n",
        "\n",
        "\n",
        "print('hidden_state : {} \\t shape : {}'.format(hidden_state, hidden_state.shape))\n",
        "print('last_state: {} \\t shape : {}'.format(last_state, last_state.shape))"
      ],
      "metadata": {
        "colab": {
          "base_uri": "https://localhost:8080/"
        },
        "id": "V4IjXvRXjF3F",
        "outputId": "b2c24356-ebd9-4c50-b28b-932ab5f939af"
      },
      "execution_count": 9,
      "outputs": [
        {
          "output_type": "stream",
          "name": "stdout",
          "text": [
            "hidden_state : [[[-0.9948807   0.99767476  0.7119209 ]\n",
            "  [-0.9999979   0.9999994   0.6169265 ]\n",
            "  [-0.9998914   0.9999921   0.16341244]\n",
            "  [-0.9914199   0.9998291  -0.4724366 ]]] \t shape : (1, 4, 3)\n",
            "last_state: [[-0.9914199  0.9998291 -0.4724366]] \t shape : (1, 3)\n"
          ]
        }
      ]
    },
    {
      "cell_type": "code",
      "source": [
        "cell = layers.SimpleRNNCell(units=hidden_size)\n",
        "rnn = layers.RNN(cell, return_sequences=False, return_state=True)\n",
        "hidden_state, last_state=rnn(train_X)\n",
        "\n",
        "\n",
        "print('hidden_state : {} \\t shape : {}'.format(hidden_state, hidden_state.shape))\n",
        "print('last_state: {} \\t shape : {}'.format(last_state, last_state.shape))"
      ],
      "metadata": {
        "colab": {
          "base_uri": "https://localhost:8080/"
        },
        "id": "Pvyv8JbjjMOd",
        "outputId": "d8cad589-9ee7-4cda-d3a1-2a748ad16e7a"
      },
      "execution_count": 10,
      "outputs": [
        {
          "output_type": "stream",
          "name": "stdout",
          "text": [
            "hidden_state : [[ 0.75613755  0.99999857 -1.        ]] \t shape : (1, 3)\n",
            "last_state: [[ 0.75613755  0.99999857 -1.        ]] \t shape : (1, 3)\n"
          ]
        }
      ]
    },
    {
      "cell_type": "markdown",
      "source": [
        "\"토마토\"를 학습하자  \n",
        "input='토토마를자먹'  \n",
        "output='토마토를먹자'  "
      ],
      "metadata": {
        "id": "onjRF_e1k7Hc"
      }
    },
    {
      "cell_type": "code",
      "source": [
        "import numpy as np\n",
        "import tensorflow as tf\n",
        "from tensorflow.keras.models import Sequential\n",
        "from tensorflow.keras.layers import SimpleRNNCell, Dense, TimeDistributed, RNN\n",
        "\n",
        "idx2char = ['토', '마', '를', '먹', '자']\n",
        "\n",
        "x_data = [[0,0,1,2,4,3]] #토 토 마 를 자 먹\n",
        "y_data = [[0,1,0,2,3,4]] #토 마 토 를 먹 자/정답을 알려줌\n",
        "\n",
        "num_classes = 5 #토큰의 갯수\n",
        "input_dim = 5\n",
        "sequence_len = 6 #len(x_data)/결과의 길이\n",
        "learning_rate = 0.1 #학습률"
      ],
      "metadata": {
        "id": "032dEraqlE3p"
      },
      "execution_count": 12,
      "outputs": []
    },
    {
      "cell_type": "markdown",
      "source": [
        "데이터 변환 - 원핫인코딩"
      ],
      "metadata": {
        "id": "y2CNkyIkmMEJ"
      }
    },
    {
      "cell_type": "code",
      "source": [
        "x_one_hot = tf.keras.utils.to_categorical(x_data, num_classes=num_classes)\n",
        "y_one_hot = tf.keras.utils.to_categorical(y_data, num_classes=num_classes)\n",
        "\n",
        "x_one_hot"
      ],
      "metadata": {
        "colab": {
          "base_uri": "https://localhost:8080/"
        },
        "id": "SlutMf-BmFg0",
        "outputId": "5e4e8225-a38b-479b-91ef-90a9b76da2ee"
      },
      "execution_count": 13,
      "outputs": [
        {
          "output_type": "execute_result",
          "data": {
            "text/plain": [
              "array([[[1., 0., 0., 0., 0.],\n",
              "        [1., 0., 0., 0., 0.],\n",
              "        [0., 1., 0., 0., 0.],\n",
              "        [0., 0., 1., 0., 0.],\n",
              "        [0., 0., 0., 0., 1.],\n",
              "        [0., 0., 0., 1., 0.]]], dtype=float32)"
            ]
          },
          "metadata": {},
          "execution_count": 13
        }
      ]
    },
    {
      "cell_type": "code",
      "source": [
        "y_one_hot"
      ],
      "metadata": {
        "colab": {
          "base_uri": "https://localhost:8080/"
        },
        "id": "cuYh4MaNnCzU",
        "outputId": "560bfaa5-82a2-4c7d-c81f-09c850c578d4"
      },
      "execution_count": 14,
      "outputs": [
        {
          "output_type": "execute_result",
          "data": {
            "text/plain": [
              "array([[[1., 0., 0., 0., 0.],\n",
              "        [0., 1., 0., 0., 0.],\n",
              "        [1., 0., 0., 0., 0.],\n",
              "        [0., 0., 1., 0., 0.],\n",
              "        [0., 0., 0., 1., 0.],\n",
              "        [0., 0., 0., 0., 1.]]], dtype=float32)"
            ]
          },
          "metadata": {},
          "execution_count": 14
        }
      ]
    },
    {
      "cell_type": "code",
      "source": [
        "x_one_hot.shape\n",
        "#시퀀스수, 시퀀스길이, dim 사이즈"
      ],
      "metadata": {
        "colab": {
          "base_uri": "https://localhost:8080/"
        },
        "id": "6NpUHVI6nL94",
        "outputId": "6025a518-b51a-484b-ef0d-aef31b537673"
      },
      "execution_count": 15,
      "outputs": [
        {
          "output_type": "execute_result",
          "data": {
            "text/plain": [
              "(1, 6, 5)"
            ]
          },
          "metadata": {},
          "execution_count": 15
        }
      ]
    },
    {
      "cell_type": "markdown",
      "source": [
        "모델링"
      ],
      "metadata": {
        "id": "JzDWAmpCnuWI"
      }
    },
    {
      "cell_type": "code",
      "source": [
        "model = Sequential()\n",
        "cell = SimpleRNNCell(units=num_classes, input_shape=(sequence_len, input_dim))\n",
        "\n",
        "model.add(RNN(cell=cell,\n",
        "            return_sequences=True,\n",
        "            return_state=False,\n",
        "            input_shape=(sequence_len, input_dim)))\n",
        "model.add(TimeDistributed(Dense(units=num_classes, activation='softmax')))\n",
        "\n",
        "model.compile(loss='categorical_crossentropy',\n",
        "              optimizer=tf.keras.optimizers.Adam(learning_rate=learning_rate),\n",
        "              metrics=['acc'])\n",
        "\n",
        "model.summary()"
      ],
      "metadata": {
        "colab": {
          "base_uri": "https://localhost:8080/"
        },
        "id": "YzkHyJ0ynip4",
        "outputId": "63c1a273-c8bb-4d2a-a6bc-4f20f976c656"
      },
      "execution_count": 17,
      "outputs": [
        {
          "output_type": "stream",
          "name": "stdout",
          "text": [
            "Model: \"sequential_1\"\n",
            "_________________________________________________________________\n",
            " Layer (type)                Output Shape              Param #   \n",
            "=================================================================\n",
            " rnn_7 (RNN)                 (None, 6, 5)              55        \n",
            "                                                                 \n",
            " time_distributed_1 (TimeDi  (None, 6, 5)              30        \n",
            " stributed)                                                      \n",
            "                                                                 \n",
            "=================================================================\n",
            "Total params: 85 (340.00 Byte)\n",
            "Trainable params: 85 (340.00 Byte)\n",
            "Non-trainable params: 0 (0.00 Byte)\n",
            "_________________________________________________________________\n"
          ]
        }
      ]
    },
    {
      "cell_type": "code",
      "source": [
        "model.fit(x_one_hot, y_one_hot, epochs=10)"
      ],
      "metadata": {
        "colab": {
          "base_uri": "https://localhost:8080/"
        },
        "id": "WGH4wpfmosU1",
        "outputId": "ffcdc3c4-047a-40dd-dc2a-8d62c41f8ded"
      },
      "execution_count": 22,
      "outputs": [
        {
          "output_type": "stream",
          "name": "stdout",
          "text": [
            "Epoch 1/10\n",
            "1/1 [==============================] - 0s 14ms/step - loss: 0.3470 - acc: 1.0000\n",
            "Epoch 2/10\n",
            "1/1 [==============================] - 0s 13ms/step - loss: 0.2458 - acc: 1.0000\n",
            "Epoch 3/10\n",
            "1/1 [==============================] - 0s 12ms/step - loss: 0.1702 - acc: 1.0000\n",
            "Epoch 4/10\n",
            "1/1 [==============================] - 0s 13ms/step - loss: 0.1188 - acc: 1.0000\n",
            "Epoch 5/10\n",
            "1/1 [==============================] - 0s 12ms/step - loss: 0.0849 - acc: 1.0000\n",
            "Epoch 6/10\n",
            "1/1 [==============================] - 0s 11ms/step - loss: 0.0621 - acc: 1.0000\n",
            "Epoch 7/10\n",
            "1/1 [==============================] - 0s 10ms/step - loss: 0.0462 - acc: 1.0000\n",
            "Epoch 8/10\n",
            "1/1 [==============================] - 0s 10ms/step - loss: 0.0348 - acc: 1.0000\n",
            "Epoch 9/10\n",
            "1/1 [==============================] - 0s 10ms/step - loss: 0.0266 - acc: 1.0000\n",
            "Epoch 10/10\n",
            "1/1 [==============================] - 0s 12ms/step - loss: 0.0206 - acc: 1.0000\n"
          ]
        },
        {
          "output_type": "execute_result",
          "data": {
            "text/plain": [
              "<keras.src.callbacks.History at 0x7ccfc0cc0c70>"
            ]
          },
          "metadata": {},
          "execution_count": 22
        }
      ]
    },
    {
      "cell_type": "code",
      "source": [
        "pred = model.predict(x_one_hot)\n",
        "pred"
      ],
      "metadata": {
        "colab": {
          "base_uri": "https://localhost:8080/"
        },
        "id": "iQOz0pvBo7Z5",
        "outputId": "d7c5feb4-1b36-4d37-a6a5-cfc69ddb8e5b"
      },
      "execution_count": 23,
      "outputs": [
        {
          "output_type": "stream",
          "name": "stdout",
          "text": [
            "1/1 [==============================] - 0s 24ms/step\n"
          ]
        },
        {
          "output_type": "execute_result",
          "data": {
            "text/plain": [
              "array([[[9.9472767e-01, 1.7439260e-03, 1.1543852e-03, 2.1856215e-03,\n",
              "         1.8835289e-04],\n",
              "        [2.2314910e-03, 9.9101794e-01, 1.5582709e-03, 5.0080935e-03,\n",
              "         1.8420462e-04],\n",
              "        [9.9822515e-01, 2.9148856e-05, 6.7806576e-04, 3.8572657e-04,\n",
              "         6.8202772e-04],\n",
              "        [3.8647975e-03, 2.8336295e-03, 9.8636729e-01, 6.2194569e-03,\n",
              "         7.1484916e-04],\n",
              "        [4.1395137e-03, 7.0697027e-03, 4.0635807e-03, 9.6790946e-01,\n",
              "         1.6817739e-02],\n",
              "        [3.4962846e-03, 1.1354260e-04, 1.0670878e-04, 3.0965544e-02,\n",
              "         9.6531790e-01]]], dtype=float32)"
            ]
          },
          "metadata": {},
          "execution_count": 23
        }
      ]
    },
    {
      "cell_type": "code",
      "source": [
        "for i, word in enumerate(pred):\n",
        "    print(\" \".join([idx2char[c] for c in np.argmax(word, axis = 1)]))"
      ],
      "metadata": {
        "colab": {
          "base_uri": "https://localhost:8080/"
        },
        "id": "7xZO9IcEp2XS",
        "outputId": "fffc3b4c-db5f-43f1-de02-14418685b52d"
      },
      "execution_count": 24,
      "outputs": [
        {
          "output_type": "stream",
          "name": "stdout",
          "text": [
            "토 마 토 를 먹 자\n"
          ]
        }
      ]
    },
    {
      "cell_type": "code",
      "source": [],
      "metadata": {
        "id": "qdcpp8fDqUXx"
      },
      "execution_count": null,
      "outputs": []
    }
  ]
}