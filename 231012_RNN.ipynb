{
  "nbformat": 4,
  "nbformat_minor": 0,
  "metadata": {
    "colab": {
      "provenance": [],
      "toc_visible": true,
      "gpuType": "T4",
      "authorship_tag": "ABX9TyPqblCqWOjj3Qzh8HSxOyEd",
      "include_colab_link": true
    },
    "kernelspec": {
      "name": "python3",
      "display_name": "Python 3"
    },
    "language_info": {
      "name": "python"
    },
    "accelerator": "GPU"
  },
  "cells": [
    {
      "cell_type": "markdown",
      "metadata": {
        "id": "view-in-github",
        "colab_type": "text"
      },
      "source": [
        "<a href=\"https://colab.research.google.com/github/LeeJiwoo982/DL_study/blob/main/231012_RNN.ipynb\" target=\"_parent\"><img src=\"https://colab.research.google.com/assets/colab-badge.svg\" alt=\"Open In Colab\"/></a>"
      ]
    },
    {
      "cell_type": "markdown",
      "source": [
        "# RNN 기초"
      ],
      "metadata": {
        "id": "sSFhVdvXznHo"
      }
    },
    {
      "cell_type": "code",
      "execution_count": 25,
      "metadata": {
        "id": "K4QXHT7sR1hd"
      },
      "outputs": [],
      "source": [
        "import numpy as np\n",
        "import tensorflow as tf\n",
        "from tensorflow import keras\n",
        "from tensorflow.keras import layers"
      ]
    },
    {
      "cell_type": "code",
      "source": [
        "train_X = [[1,2,3,4,5],\n",
        "           [2,4,6,8,10],\n",
        "           [1,3,5,7,9],\n",
        "           [0,2,4,6,8]]\n",
        "print(np.shape(train_X))"
      ],
      "metadata": {
        "colab": {
          "base_uri": "https://localhost:8080/"
        },
        "id": "gQlWvR4SR7tH",
        "outputId": "e3fde250-708e-4e08-b0f6-9dd432955501"
      },
      "execution_count": 26,
      "outputs": [
        {
          "output_type": "stream",
          "name": "stdout",
          "text": [
            "(4, 5)\n"
          ]
        }
      ]
    },
    {
      "cell_type": "code",
      "source": [
        "train_X = np.array(train_X, dtype=np.float32)\n",
        "print(train_X.shape)"
      ],
      "metadata": {
        "colab": {
          "base_uri": "https://localhost:8080/"
        },
        "id": "b0ILy-tOfbzh",
        "outputId": "5b5f1ef3-06c2-4367-98d9-1426a5c48865"
      },
      "execution_count": 27,
      "outputs": [
        {
          "output_type": "stream",
          "name": "stdout",
          "text": [
            "(4, 5)\n"
          ]
        }
      ]
    },
    {
      "cell_type": "markdown",
      "source": [
        "## RNN은 3차원 tensor로 값을 입력받아 3차원으로 변환"
      ],
      "metadata": {
        "id": "r9YUjKJxgP7R"
      }
    },
    {
      "cell_type": "code",
      "source": [
        "train_X = np.array([train_X],dtype=np.float32)\n",
        "print(train_X.shape)"
      ],
      "metadata": {
        "colab": {
          "base_uri": "https://localhost:8080/"
        },
        "id": "TjW4tR9ggB7P",
        "outputId": "a2a1cc34-adca-4c51-a790-491209a32238"
      },
      "execution_count": 28,
      "outputs": [
        {
          "output_type": "stream",
          "name": "stdout",
          "text": [
            "(1, 4, 5)\n"
          ]
        }
      ]
    },
    {
      "cell_type": "markdown",
      "source": [
        "## 중요한 파라미터인 return_sequences와 return_state 두 파라미터 default값은 False"
      ],
      "metadata": {
        "id": "wpeFSWCogpVD"
      }
    },
    {
      "cell_type": "markdown",
      "source": [
        "### return_sequences=True, return_state=False\n",
        "* return_sequence=False 일 떄 마지막 시점 hidden state만 출력\n",
        "\n",
        "1) 그렇다면 return_sequence가 True라면?"
      ],
      "metadata": {
        "id": "myefBzNzg0p2"
      }
    },
    {
      "cell_type": "code",
      "source": [
        "hidden_size = 3\n",
        "cell = layers.SimpleRNNCell(units=hidden_size)\n",
        "rnn = layers.RNN(cell, return_sequences=True, return_state=False)\n",
        "hidden_state=rnn(train_X)\n",
        "\n",
        "print('train_X: {} \\t shape : {}'.format(train_X, train_X.shape))\n",
        "print('hidden_state : {} \\t shape : {}'.format(hidden_state, hidden_state.shape))\n",
        "\n",
        "#모든 시점의 hidden_state가 출력된다."
      ],
      "metadata": {
        "colab": {
          "base_uri": "https://localhost:8080/"
        },
        "id": "pOC9b48_gjuT",
        "outputId": "df611eec-357c-4fe5-88ba-d5a790fd6276"
      },
      "execution_count": 29,
      "outputs": [
        {
          "output_type": "stream",
          "name": "stdout",
          "text": [
            "train_X: [[[ 1.  2.  3.  4.  5.]\n",
            "  [ 2.  4.  6.  8. 10.]\n",
            "  [ 1.  3.  5.  7.  9.]\n",
            "  [ 0.  2.  4.  6.  8.]]] \t shape : (1, 4, 5)\n",
            "hidden_state : [[[-0.99999905 -0.8557514  -0.88444495]\n",
            "  [-1.         -0.99905723 -0.9535554 ]\n",
            "  [-1.         -0.99684435 -0.53456885]\n",
            "  [-1.         -0.9874485   0.24635144]]] \t shape : (1, 4, 3)\n"
          ]
        }
      ]
    },
    {
      "cell_type": "markdown",
      "source": [
        "### return_sequences=False, return_state=False"
      ],
      "metadata": {
        "id": "GGWs6NJMijvB"
      }
    },
    {
      "cell_type": "code",
      "source": [
        "cell = layers.SimpleRNNCell(units=hidden_size)\n",
        "rnn = layers.RNN(cell, return_sequences=False, return_state=False)\n",
        "hidden_state=rnn(train_X)\n",
        "\n",
        "print('train_X: {} \\t shape : {}'.format(train_X, train_X.shape))\n",
        "print('hidden_state : {} \\t shape : {}'.format(hidden_state, hidden_state.shape))\n",
        "#마지막 시점의 hidden_state 출력"
      ],
      "metadata": {
        "colab": {
          "base_uri": "https://localhost:8080/"
        },
        "id": "o_6ydH9ahliR",
        "outputId": "cd507bb2-51c4-4fc7-b939-fb00cdd89fc0"
      },
      "execution_count": 30,
      "outputs": [
        {
          "output_type": "stream",
          "name": "stdout",
          "text": [
            "train_X: [[[ 1.  2.  3.  4.  5.]\n",
            "  [ 2.  4.  6.  8. 10.]\n",
            "  [ 1.  3.  5.  7.  9.]\n",
            "  [ 0.  2.  4.  6.  8.]]] \t shape : (1, 4, 5)\n",
            "hidden_state : [[ 0.99996305 -0.96271896 -1.        ]] \t shape : (1, 3)\n"
          ]
        }
      ]
    },
    {
      "cell_type": "markdown",
      "source": [
        "### return_sequences=True, return_state=True"
      ],
      "metadata": {
        "id": "k0RtRl7SjDFi"
      }
    },
    {
      "cell_type": "code",
      "source": [
        "ell = layers.SimpleRNNCell(units=hidden_size)\n",
        "rnn = layers.RNN(cell, return_sequences=True, return_state=True)\n",
        "hidden_state, last_state=rnn(train_X)\n",
        "\n",
        "\n",
        "print('hidden_state : {} \\t shape : {}'.format(hidden_state, hidden_state.shape))\n",
        "print('last_state: {} \\t shape : {}'.format(last_state, last_state.shape))"
      ],
      "metadata": {
        "colab": {
          "base_uri": "https://localhost:8080/"
        },
        "id": "V4IjXvRXjF3F",
        "outputId": "7ba9955d-1e7a-482b-bf83-f40c15a603f4"
      },
      "execution_count": 31,
      "outputs": [
        {
          "output_type": "stream",
          "name": "stdout",
          "text": [
            "hidden_state : [[[ 0.9996864  -0.9318795  -0.9995267 ]\n",
            "  [ 1.         -0.99919    -1.        ]\n",
            "  [ 0.9999993  -0.99427336 -1.        ]\n",
            "  [ 0.99996305 -0.96271896 -1.        ]]] \t shape : (1, 4, 3)\n",
            "last_state: [[ 0.99996305 -0.96271896 -1.        ]] \t shape : (1, 3)\n"
          ]
        }
      ]
    },
    {
      "cell_type": "markdown",
      "source": [
        "### return_sequences=False,  return_state=True"
      ],
      "metadata": {
        "id": "7is8gDiOBdBD"
      }
    },
    {
      "cell_type": "code",
      "source": [
        "cell = layers.SimpleRNNCell(units=hidden_size)\n",
        "rnn = layers.RNN(cell, return_sequences=False, return_state=True)\n",
        "hidden_state, last_state=rnn(train_X)\n",
        "\n",
        "\n",
        "print('hidden_state : {} \\t shape : {}'.format(hidden_state, hidden_state.shape))\n",
        "print('last_state: {} \\t shape : {}'.format(last_state, last_state.shape))"
      ],
      "metadata": {
        "colab": {
          "base_uri": "https://localhost:8080/"
        },
        "id": "Pvyv8JbjjMOd",
        "outputId": "65ed2704-2a3c-4280-f342-5e6fad3e2280"
      },
      "execution_count": 32,
      "outputs": [
        {
          "output_type": "stream",
          "name": "stdout",
          "text": [
            "hidden_state : [[-0.96429646  0.71538574 -1.        ]] \t shape : (1, 3)\n",
            "last_state: [[-0.96429646  0.71538574 -1.        ]] \t shape : (1, 3)\n"
          ]
        }
      ]
    },
    {
      "cell_type": "markdown",
      "source": [
        "##토마토"
      ],
      "metadata": {
        "id": "ViZNPAnd2Ngc"
      }
    },
    {
      "cell_type": "markdown",
      "source": [
        "\"토마토\"를 학습하자  \n",
        "input='토토마를자먹'  \n",
        "output='토마토를먹자'  "
      ],
      "metadata": {
        "id": "onjRF_e1k7Hc"
      }
    },
    {
      "cell_type": "markdown",
      "source": [
        "### 정의"
      ],
      "metadata": {
        "id": "4hz_BB6X4nOs"
      }
    },
    {
      "cell_type": "code",
      "source": [
        "import numpy as np\n",
        "import tensorflow as tf\n",
        "from tensorflow.keras.models import Sequential\n",
        "from tensorflow.keras.layers import SimpleRNNCell, Dense, TimeDistributed, RNN\n",
        "\n",
        "idx2char = ['토', '마', '를', '먹', '자']\n",
        "\n",
        "x_data = [[0,0,1,2,4,3]] #토 토 마 를 자 먹\n",
        "y_data = [[0,1,0,2,3,4]] #토 마 토 를 먹 자/정답을 알려줌\n",
        "\n",
        "num_classes = 5 #토큰의 갯수\n",
        "input_dim = 5\n",
        "sequence_len = 6 #len(x_data)/결과의 길이\n",
        "learning_rate = 0.1 #학습률"
      ],
      "metadata": {
        "id": "032dEraqlE3p"
      },
      "execution_count": 33,
      "outputs": []
    },
    {
      "cell_type": "markdown",
      "source": [
        "데이터 변환 - 원핫인코딩"
      ],
      "metadata": {
        "id": "y2CNkyIkmMEJ"
      }
    },
    {
      "cell_type": "code",
      "source": [
        "x_one_hot = tf.keras.utils.to_categorical(x_data, num_classes=num_classes)\n",
        "y_one_hot = tf.keras.utils.to_categorical(y_data, num_classes=num_classes)\n",
        "\n",
        "x_one_hot"
      ],
      "metadata": {
        "colab": {
          "base_uri": "https://localhost:8080/"
        },
        "id": "SlutMf-BmFg0",
        "outputId": "99f5c24c-c673-48fe-9278-b02074aae902"
      },
      "execution_count": 34,
      "outputs": [
        {
          "output_type": "execute_result",
          "data": {
            "text/plain": [
              "array([[[1., 0., 0., 0., 0.],\n",
              "        [1., 0., 0., 0., 0.],\n",
              "        [0., 1., 0., 0., 0.],\n",
              "        [0., 0., 1., 0., 0.],\n",
              "        [0., 0., 0., 0., 1.],\n",
              "        [0., 0., 0., 1., 0.]]], dtype=float32)"
            ]
          },
          "metadata": {},
          "execution_count": 34
        }
      ]
    },
    {
      "cell_type": "code",
      "source": [
        "y_one_hot"
      ],
      "metadata": {
        "colab": {
          "base_uri": "https://localhost:8080/"
        },
        "id": "cuYh4MaNnCzU",
        "outputId": "c6332197-c273-45e5-9afb-29040a95a492"
      },
      "execution_count": 35,
      "outputs": [
        {
          "output_type": "execute_result",
          "data": {
            "text/plain": [
              "array([[[1., 0., 0., 0., 0.],\n",
              "        [0., 1., 0., 0., 0.],\n",
              "        [1., 0., 0., 0., 0.],\n",
              "        [0., 0., 1., 0., 0.],\n",
              "        [0., 0., 0., 1., 0.],\n",
              "        [0., 0., 0., 0., 1.]]], dtype=float32)"
            ]
          },
          "metadata": {},
          "execution_count": 35
        }
      ]
    },
    {
      "cell_type": "code",
      "source": [
        "x_one_hot.shape\n",
        "#시퀀스수, 시퀀스길이, dim 사이즈"
      ],
      "metadata": {
        "colab": {
          "base_uri": "https://localhost:8080/"
        },
        "id": "6NpUHVI6nL94",
        "outputId": "a896a7b1-81b6-4b81-889d-9d5d4ebf8a6f"
      },
      "execution_count": 36,
      "outputs": [
        {
          "output_type": "execute_result",
          "data": {
            "text/plain": [
              "(1, 6, 5)"
            ]
          },
          "metadata": {},
          "execution_count": 36
        }
      ]
    },
    {
      "cell_type": "markdown",
      "source": [
        "### 모델링"
      ],
      "metadata": {
        "id": "JzDWAmpCnuWI"
      }
    },
    {
      "cell_type": "code",
      "source": [
        "model = Sequential()\n",
        "cell = SimpleRNNCell(units=num_classes, input_shape=(sequence_len, input_dim))\n",
        "\n",
        "model.add(RNN(cell=cell,\n",
        "            return_sequences=True,\n",
        "            return_state=False,\n",
        "            input_shape=(sequence_len, input_dim)))\n",
        "model.add(TimeDistributed(Dense(units=num_classes, activation='softmax')))\n",
        "\n",
        "model.compile(loss='categorical_crossentropy',\n",
        "              optimizer=tf.keras.optimizers.Adam(learning_rate=learning_rate),\n",
        "              metrics=['acc'])\n",
        "\n",
        "model.summary()"
      ],
      "metadata": {
        "colab": {
          "base_uri": "https://localhost:8080/"
        },
        "id": "YzkHyJ0ynip4",
        "outputId": "2f67ee73-74f9-468e-e481-dd9665d3767b"
      },
      "execution_count": 37,
      "outputs": [
        {
          "output_type": "stream",
          "name": "stdout",
          "text": [
            "Model: \"sequential_4\"\n",
            "_________________________________________________________________\n",
            " Layer (type)                Output Shape              Param #   \n",
            "=================================================================\n",
            " rnn_9 (RNN)                 (None, 6, 5)              55        \n",
            "                                                                 \n",
            " time_distributed_1 (TimeDi  (None, 6, 5)              30        \n",
            " stributed)                                                      \n",
            "                                                                 \n",
            "=================================================================\n",
            "Total params: 85 (340.00 Byte)\n",
            "Trainable params: 85 (340.00 Byte)\n",
            "Non-trainable params: 0 (0.00 Byte)\n",
            "_________________________________________________________________\n"
          ]
        }
      ]
    },
    {
      "cell_type": "code",
      "source": [
        "model.fit(x_one_hot, y_one_hot, epochs=10)"
      ],
      "metadata": {
        "colab": {
          "base_uri": "https://localhost:8080/"
        },
        "id": "WGH4wpfmosU1",
        "outputId": "6f25b014-6f9d-4584-a3d5-eac3598dff79"
      },
      "execution_count": 38,
      "outputs": [
        {
          "output_type": "stream",
          "name": "stdout",
          "text": [
            "Epoch 1/10\n",
            "1/1 [==============================] - 1s 1s/step - loss: 2.0107 - acc: 0.0000e+00\n",
            "Epoch 2/10\n",
            "1/1 [==============================] - 0s 21ms/step - loss: 1.6207 - acc: 0.0000e+00\n",
            "Epoch 3/10\n",
            "1/1 [==============================] - 0s 15ms/step - loss: 1.3516 - acc: 0.6667\n",
            "Epoch 4/10\n",
            "1/1 [==============================] - 0s 16ms/step - loss: 1.1164 - acc: 0.8333\n",
            "Epoch 5/10\n",
            "1/1 [==============================] - 0s 14ms/step - loss: 0.9002 - acc: 0.8333\n",
            "Epoch 6/10\n",
            "1/1 [==============================] - 0s 16ms/step - loss: 0.7061 - acc: 0.8333\n",
            "Epoch 7/10\n",
            "1/1 [==============================] - 0s 14ms/step - loss: 0.5273 - acc: 1.0000\n",
            "Epoch 8/10\n",
            "1/1 [==============================] - 0s 14ms/step - loss: 0.3797 - acc: 1.0000\n",
            "Epoch 9/10\n",
            "1/1 [==============================] - 0s 15ms/step - loss: 0.2710 - acc: 1.0000\n",
            "Epoch 10/10\n",
            "1/1 [==============================] - 0s 14ms/step - loss: 0.1946 - acc: 1.0000\n"
          ]
        },
        {
          "output_type": "execute_result",
          "data": {
            "text/plain": [
              "<keras.src.callbacks.History at 0x797755f9dd50>"
            ]
          },
          "metadata": {},
          "execution_count": 38
        }
      ]
    },
    {
      "cell_type": "code",
      "source": [
        "pred = model.predict(x_one_hot)\n",
        "pred"
      ],
      "metadata": {
        "colab": {
          "base_uri": "https://localhost:8080/"
        },
        "id": "iQOz0pvBo7Z5",
        "outputId": "60c7f9df-95ba-4b19-d443-8e57bf63bf1c"
      },
      "execution_count": 39,
      "outputs": [
        {
          "output_type": "stream",
          "name": "stdout",
          "text": [
            "1/1 [==============================] - 0s 138ms/step\n"
          ]
        },
        {
          "output_type": "execute_result",
          "data": {
            "text/plain": [
              "array([[[9.08257663e-01, 1.87071692e-02, 5.63965878e-03, 1.21152597e-02,\n",
              "         5.52802719e-02],\n",
              "        [2.54459959e-02, 9.03344631e-01, 5.13453642e-03, 2.61964947e-02,\n",
              "         3.98783423e-02],\n",
              "        [9.51556921e-01, 1.74365030e-03, 8.10945779e-03, 7.14516907e-04,\n",
              "         3.78754772e-02],\n",
              "        [4.93072793e-02, 5.82268275e-03, 8.21525455e-01, 1.07555114e-01,\n",
              "         1.57894474e-02],\n",
              "        [2.85355784e-02, 1.63473785e-02, 1.52421400e-01, 7.70261884e-01,\n",
              "         3.24337929e-02],\n",
              "        [4.92685996e-02, 4.07575332e-02, 1.99630903e-03, 4.10222150e-02,\n",
              "         8.66955340e-01]]], dtype=float32)"
            ]
          },
          "metadata": {},
          "execution_count": 39
        }
      ]
    },
    {
      "cell_type": "markdown",
      "source": [
        "###결과"
      ],
      "metadata": {
        "id": "tygdxYto4vBO"
      }
    },
    {
      "cell_type": "code",
      "source": [
        "for i, word in enumerate(pred):\n",
        "    print(\" \".join([idx2char[c] for c in np.argmax(word, axis = 1)]))"
      ],
      "metadata": {
        "colab": {
          "base_uri": "https://localhost:8080/"
        },
        "id": "7xZO9IcEp2XS",
        "outputId": "4b9daefd-c64d-46f7-b003-e49aefdfca37"
      },
      "execution_count": 40,
      "outputs": [
        {
          "output_type": "stream",
          "name": "stdout",
          "text": [
            "토 마 토 를 먹 자\n"
          ]
        }
      ]
    },
    {
      "cell_type": "markdown",
      "source": [
        "# LSTM"
      ],
      "metadata": {
        "id": "edRImjHLzr0J"
      }
    },
    {
      "cell_type": "markdown",
      "source": [
        "* 두 파라미터의 default 값은 False"
      ],
      "metadata": {
        "id": "HUcIO1tJz1qj"
      }
    },
    {
      "cell_type": "markdown",
      "source": [
        "## return_sequences=False, return_state=True"
      ],
      "metadata": {
        "id": "Twv9AOotA4JR"
      }
    },
    {
      "cell_type": "code",
      "source": [
        "from keras.layers import LSTM\n",
        "\n",
        "#우선 hidden_size 임의로 3\n",
        "hidden_size = 3\n",
        "lstm = LSTM(units=hidden_size, return_sequences=False, return_state=True)\n",
        "hidden_state, last_state, last_cell_state=lstm(train_X)\n",
        "\n",
        "print('train_X        : {} \\t shape : {}'.format(train_X, train_X.shape))\n",
        "print('hidden_state   : {} \\t shape : {}'.format(hidden_state, hidden_state.shape))\n",
        "print('last_state     : {} \\t shape : {}'.format(last_state, last_state.shape))\n",
        "print('last_cell_state: {} \\t shape : {}'.format(last_cell_state, last_cell_state.shape))"
      ],
      "metadata": {
        "id": "qdcpp8fDqUXx",
        "colab": {
          "base_uri": "https://localhost:8080/"
        },
        "outputId": "5b514d9c-c5ba-4dbc-ae7a-88ae35f99866"
      },
      "execution_count": 41,
      "outputs": [
        {
          "output_type": "stream",
          "name": "stdout",
          "text": [
            "train_X        : [[[ 1.  2.  3.  4.  5.]\n",
            "  [ 2.  4.  6.  8. 10.]\n",
            "  [ 1.  3.  5.  7.  9.]\n",
            "  [ 0.  2.  4.  6.  8.]]] \t shape : (1, 4, 5)\n",
            "hidden_state   : [[ 0.03643081 -0.99195665  0.02986983]] \t shape : (1, 3)\n",
            "last_state     : [[ 0.03643081 -0.99195665  0.02986983]] \t shape : (1, 3)\n",
            "last_cell_state: [[ 0.5524434  -2.8715231   0.12162343]] \t shape : (1, 3)\n"
          ]
        }
      ]
    },
    {
      "cell_type": "markdown",
      "source": [
        "## return_sequences=True, return_state=True"
      ],
      "metadata": {
        "id": "xgPMxgesA74Q"
      }
    },
    {
      "cell_type": "code",
      "source": [
        "lstm = LSTM(units=hidden_size, return_sequences=True, return_state=True)\n",
        "hidden_state, last_state, last_cell_state=lstm(train_X)\n",
        "\n",
        "print('train_X        : {} \\t shape : {}'.format(train_X, train_X.shape))\n",
        "print('hidden_state   : {} \\t shape : {}'.format(hidden_state, hidden_state.shape))\n",
        "print('last_state     : {} \\t shape : {}'.format(last_state, last_state.shape))\n",
        "print('last_cell_state: {} \\t shape : {}'.format(last_cell_state, last_cell_state.shape))"
      ],
      "metadata": {
        "colab": {
          "base_uri": "https://localhost:8080/"
        },
        "id": "hUnZYsQj0rb-",
        "outputId": "9e21a049-271b-4900-8f50-b199b7456ed9"
      },
      "execution_count": 42,
      "outputs": [
        {
          "output_type": "stream",
          "name": "stdout",
          "text": [
            "train_X        : [[[ 1.  2.  3.  4.  5.]\n",
            "  [ 2.  4.  6.  8. 10.]\n",
            "  [ 1.  3.  5.  7.  9.]\n",
            "  [ 0.  2.  4.  6.  8.]]] \t shape : (1, 4, 5)\n",
            "hidden_state   : [[[-0.01595707 -0.05888252 -0.01447075]\n",
            "  [-0.01041977 -0.00728297 -0.00043721]\n",
            "  [-0.01351407 -0.02065314 -0.00047434]\n",
            "  [-0.02208074 -0.05377648 -0.00099048]]] \t shape : (1, 4, 3)\n",
            "last_state     : [[-0.02208074 -0.05377648 -0.00099048]] \t shape : (1, 3)\n",
            "last_cell_state: [[-2.2662804e-02 -3.8293519e+00 -9.9190825e-04]] \t shape : (1, 3)\n"
          ]
        }
      ]
    },
    {
      "cell_type": "markdown",
      "source": [
        "##토마토"
      ],
      "metadata": {
        "id": "Ltfygx9n2JZQ"
      }
    },
    {
      "cell_type": "markdown",
      "source": [
        "### 임포트, 정의"
      ],
      "metadata": {
        "id": "Rq6-8mLV4OoY"
      }
    },
    {
      "cell_type": "code",
      "source": [
        "import numpy as np\n",
        "import tensorflow as tf\n",
        "from tensorflow.keras.models import Sequential\n",
        "from tensorflow.keras.layers import SimpleRNNCell, Dense, TimeDistributed, RNN\n",
        "\n",
        "idx2char = ['토', '마', '를', '먹', '자']\n",
        "\n",
        "x_data = [[0,0,1,2,4,3]] #토 토 마 를 자 먹\n",
        "y_data = [[0,1,0,2,3,4]] #토 마 토 를 먹 자/정답을 알려줌\n",
        "\n",
        "num_classes = 5 #토큰의 갯수\n",
        "input_dim = 5\n",
        "sequence_len = 6 #len(x_data)/결과의 길이\n",
        "learning_rate = 0.1 #학습률\n",
        "\n",
        "x_one_hot = tf.keras.utils.to_categorical(x_data, num_classes=num_classes)\n",
        "y_one_hot = tf.keras.utils.to_categorical(y_data, num_classes=num_classes)"
      ],
      "metadata": {
        "id": "MP9ZWXew1x44"
      },
      "execution_count": 43,
      "outputs": []
    },
    {
      "cell_type": "markdown",
      "source": [
        "###모델 쌓기"
      ],
      "metadata": {
        "id": "oASzLdXT4SZR"
      }
    },
    {
      "cell_type": "code",
      "source": [
        "from keras.layers import LSTM\n",
        "\n",
        "model = Sequential()\n",
        "\n",
        "model.add(LSTM(units=num_classes,\n",
        "               return_sequences=True,\n",
        "               input_shape=(sequence_len, input_dim),activation='tanh'))\n",
        "model.add(Dense(32, activation='relu'))\n",
        "model.add(Dense(units=num_classes, activation='softmax'))\n",
        "\n",
        "model.compile(loss='categorical_crossentropy',\n",
        "              optimizer=tf.keras.optimizers.Adam(learning_rate=learning_rate),\n",
        "              metrics=['acc'])\n",
        "\n",
        "model.fit(x_one_hot, y_one_hot, epochs=10)\n",
        "pred = model.predict(x_one_hot)"
      ],
      "metadata": {
        "colab": {
          "base_uri": "https://localhost:8080/"
        },
        "id": "yL_Jgeev2dJT",
        "outputId": "5e7dacbc-713d-4a63-8134-7a57374759ac"
      },
      "execution_count": 44,
      "outputs": [
        {
          "output_type": "stream",
          "name": "stdout",
          "text": [
            "Epoch 1/10\n",
            "1/1 [==============================] - 3s 3s/step - loss: 1.6091 - acc: 0.1667\n",
            "Epoch 2/10\n",
            "1/1 [==============================] - 0s 13ms/step - loss: 1.5193 - acc: 0.5000\n",
            "Epoch 3/10\n",
            "1/1 [==============================] - 0s 15ms/step - loss: 1.3719 - acc: 0.3333\n",
            "Epoch 4/10\n",
            "1/1 [==============================] - 0s 16ms/step - loss: 1.1383 - acc: 0.5000\n",
            "Epoch 5/10\n",
            "1/1 [==============================] - 0s 14ms/step - loss: 0.8674 - acc: 0.8333\n",
            "Epoch 6/10\n",
            "1/1 [==============================] - 0s 14ms/step - loss: 0.5836 - acc: 0.8333\n",
            "Epoch 7/10\n",
            "1/1 [==============================] - 0s 13ms/step - loss: 0.4153 - acc: 0.8333\n",
            "Epoch 8/10\n",
            "1/1 [==============================] - 0s 11ms/step - loss: 0.2949 - acc: 0.8333\n",
            "Epoch 9/10\n",
            "1/1 [==============================] - 0s 12ms/step - loss: 0.2585 - acc: 0.8333\n",
            "Epoch 10/10\n",
            "1/1 [==============================] - 0s 12ms/step - loss: 0.1971 - acc: 0.8333\n",
            "1/1 [==============================] - 0s 394ms/step\n"
          ]
        }
      ]
    },
    {
      "cell_type": "code",
      "source": [
        "pred"
      ],
      "metadata": {
        "colab": {
          "base_uri": "https://localhost:8080/"
        },
        "id": "JAer7QA93SAe",
        "outputId": "693104a5-ea10-4d0a-f71b-6ed20fb50280"
      },
      "execution_count": 45,
      "outputs": [
        {
          "output_type": "execute_result",
          "data": {
            "text/plain": [
              "array([[[4.1194665e-01, 5.8735180e-01, 3.8523951e-05, 1.1553899e-07,\n",
              "         6.6291390e-04],\n",
              "        [1.6304682e-01, 8.3692491e-01, 4.6067686e-07, 2.3742178e-10,\n",
              "         2.7693532e-05],\n",
              "        [9.0912706e-01, 9.0140030e-02, 7.2334288e-04, 9.5237567e-08,\n",
              "         9.5480209e-06],\n",
              "        [1.3265967e-03, 3.0842384e-05, 9.9269003e-01, 5.8867373e-03,\n",
              "         6.5778571e-05],\n",
              "        [1.6193627e-07, 1.4553394e-09, 8.9546840e-04, 9.9875295e-01,\n",
              "         3.5148693e-04],\n",
              "        [1.8588652e-06, 1.6343303e-05, 3.6320278e-09, 3.8578341e-06,\n",
              "         9.9997795e-01]]], dtype=float32)"
            ]
          },
          "metadata": {},
          "execution_count": 45
        }
      ]
    },
    {
      "cell_type": "markdown",
      "source": [
        "### 결과"
      ],
      "metadata": {
        "id": "UPwFYi2M4VnS"
      }
    },
    {
      "cell_type": "code",
      "source": [
        "for i, word in enumerate(pred):\n",
        "    print(\" \".join([idx2char[c] for c in np.argmax(word, axis = 1)]))"
      ],
      "metadata": {
        "colab": {
          "base_uri": "https://localhost:8080/"
        },
        "id": "lTD8tJyA3rcd",
        "outputId": "5636ba3a-26d6-4deb-a4bc-dec37e920edb"
      },
      "execution_count": 46,
      "outputs": [
        {
          "output_type": "stream",
          "name": "stdout",
          "text": [
            "마 마 토 를 먹 자\n"
          ]
        }
      ]
    },
    {
      "cell_type": "markdown",
      "source": [
        "# GRU\n",
        "Grated Recurrent Unit"
      ],
      "metadata": {
        "id": "K3G4Sqdo7PP6"
      }
    },
    {
      "cell_type": "markdown",
      "source": [
        "## return_sequences = False, return_state=True"
      ],
      "metadata": {
        "id": "LsdaPjfiAoMe"
      }
    },
    {
      "cell_type": "code",
      "source": [
        "from keras.layers import GRU\n",
        "\n",
        "hidden_size = 3\n",
        "gru= GRU(units=hidden_size, return_sequences=False, return_state=True)\n",
        "hidden_state, last_state = gru(train_X)\n",
        "\n",
        "print('train_X        : {} \\t shape : {}'.format(train_X, train_X.shape))\n",
        "print('hidden_state   : {} \\t shape : {}'.format(hidden_state, hidden_state.shape))\n",
        "print('last_state     : {} \\t shape : {}'.format(last_state, last_state.shape))"
      ],
      "metadata": {
        "colab": {
          "base_uri": "https://localhost:8080/"
        },
        "id": "FCcg4vMO3wPR",
        "outputId": "76ed57f6-42cc-497e-8a73-1f4c653b9adf"
      },
      "execution_count": 50,
      "outputs": [
        {
          "output_type": "stream",
          "name": "stdout",
          "text": [
            "train_X        : [[[ 1.  2.  3.  4.  5.]\n",
            "  [ 2.  4.  6.  8. 10.]\n",
            "  [ 1.  3.  5.  7.  9.]\n",
            "  [ 0.  2.  4.  6.  8.]]] \t shape : (1, 4, 5)\n",
            "hidden_state   : [[-0.9984235  -0.8571842  -0.34000686]] \t shape : (1, 3)\n",
            "last_state     : [[-0.9984235  -0.8571842  -0.34000686]] \t shape : (1, 3)\n"
          ]
        }
      ]
    },
    {
      "cell_type": "markdown",
      "source": [
        "## return_sequences=True, return_state=True"
      ],
      "metadata": {
        "id": "zATUwFpVAwCk"
      }
    },
    {
      "cell_type": "code",
      "source": [
        "gru= GRU(units=hidden_size, return_sequences=True, return_state=True)\n",
        "hidden_state, last_state = gru(train_X)\n",
        "\n",
        "print('train_X        : {} \\t shape : {}'.format(train_X, train_X.shape))\n",
        "print('hidden_state   : {} \\t shape : {}'.format(hidden_state, hidden_state.shape))\n",
        "print('last_state     : {} \\t shape : {}'.format(last_state, last_state.shape))"
      ],
      "metadata": {
        "colab": {
          "base_uri": "https://localhost:8080/"
        },
        "id": "O4qgy_bM_FS0",
        "outputId": "0b52d7aa-1863-4d15-dc56-2b35eb91f229"
      },
      "execution_count": 52,
      "outputs": [
        {
          "output_type": "stream",
          "name": "stdout",
          "text": [
            "train_X        : [[[ 1.  2.  3.  4.  5.]\n",
            "  [ 2.  4.  6.  8. 10.]\n",
            "  [ 1.  3.  5.  7.  9.]\n",
            "  [ 0.  2.  4.  6.  8.]]] \t shape : (1, 4, 5)\n",
            "hidden_state   : [[[ 0.01492814  0.56057435  0.01067822]\n",
            "  [ 0.02457547  0.8229378   0.01089729]\n",
            "  [-0.03197804  0.929557    0.01126008]\n",
            "  [-0.265835    0.9727646   0.01160135]]] \t shape : (1, 4, 3)\n",
            "last_state     : [[-0.265835    0.9727646   0.01160135]] \t shape : (1, 3)\n"
          ]
        }
      ]
    },
    {
      "cell_type": "markdown",
      "source": [
        "##토마토"
      ],
      "metadata": {
        "id": "dhlkhqFJADGN"
      }
    },
    {
      "cell_type": "markdown",
      "source": [
        "###정의"
      ],
      "metadata": {
        "id": "CGbtzjLMAOUc"
      }
    },
    {
      "cell_type": "code",
      "source": [
        "import numpy as np\n",
        "import tensorflow as tf\n",
        "from tensorflow.keras.models import Sequential\n",
        "from tensorflow.keras.layers import SimpleRNNCell, Dense, TimeDistributed, RNN\n",
        "from keras.layers import GRU\n",
        "\n",
        "idx2char = ['토', '마', '를', '먹', '자']\n",
        "\n",
        "x_data = [[0,0,1,2,4,3]] #토 토 마 를 자 먹\n",
        "y_data = [[0,1,0,2,3,4]] #토 마 토 를 먹 자/정답을 알려줌\n",
        "\n",
        "num_classes = 5 #토큰의 갯수\n",
        "input_dim = 5\n",
        "sequence_len = 6 #len(x_data)/결과의 길이\n",
        "learning_rate = 0.1 #학습률"
      ],
      "metadata": {
        "id": "HfViZUYL_vbr"
      },
      "execution_count": 54,
      "outputs": []
    },
    {
      "cell_type": "markdown",
      "source": [
        "###모델링"
      ],
      "metadata": {
        "id": "3vShEvHmAP3P"
      }
    },
    {
      "cell_type": "code",
      "source": [
        "model = Sequential()\n",
        "\n",
        "model.add(GRU(units=num_classes,\n",
        "               return_sequences=True,\n",
        "               input_shape=(sequence_len, input_dim),activation='tanh'))\n",
        "model.add(Dense(32, activation='relu'))\n",
        "model.add(Dense(units=num_classes, activation='softmax'))\n",
        "\n",
        "model.compile(loss='categorical_crossentropy',\n",
        "              optimizer=tf.keras.optimizers.Adam(learning_rate=learning_rate),\n",
        "              metrics=['acc'])\n",
        "\n",
        "model.fit(x_one_hot, y_one_hot, epochs=10)\n",
        "pred = model.predict(x_one_hot)"
      ],
      "metadata": {
        "colab": {
          "base_uri": "https://localhost:8080/"
        },
        "id": "ZtCj3zznANE-",
        "outputId": "f476e475-81b5-41d8-db20-f2db2f8f65eb"
      },
      "execution_count": 55,
      "outputs": [
        {
          "output_type": "stream",
          "name": "stdout",
          "text": [
            "Epoch 1/10\n",
            "1/1 [==============================] - 3s 3s/step - loss: 1.6167 - acc: 0.1667\n",
            "Epoch 2/10\n",
            "1/1 [==============================] - 0s 13ms/step - loss: 1.4022 - acc: 0.5000\n",
            "Epoch 3/10\n",
            "1/1 [==============================] - 0s 13ms/step - loss: 1.1844 - acc: 0.5000\n",
            "Epoch 4/10\n",
            "1/1 [==============================] - 0s 13ms/step - loss: 0.8303 - acc: 0.6667\n",
            "Epoch 5/10\n",
            "1/1 [==============================] - 0s 13ms/step - loss: 0.4900 - acc: 1.0000\n",
            "Epoch 6/10\n",
            "1/1 [==============================] - 0s 12ms/step - loss: 0.3530 - acc: 0.8333\n",
            "Epoch 7/10\n",
            "1/1 [==============================] - 0s 11ms/step - loss: 0.2294 - acc: 0.8333\n",
            "Epoch 8/10\n",
            "1/1 [==============================] - 0s 13ms/step - loss: 0.2313 - acc: 0.8333\n",
            "Epoch 9/10\n",
            "1/1 [==============================] - 0s 12ms/step - loss: 0.1635 - acc: 1.0000\n",
            "Epoch 10/10\n",
            "1/1 [==============================] - 0s 12ms/step - loss: 0.1737 - acc: 0.8333\n"
          ]
        },
        {
          "output_type": "stream",
          "name": "stderr",
          "text": [
            "WARNING:tensorflow:5 out of the last 5 calls to <function Model.make_predict_function.<locals>.predict_function at 0x79775429be20> triggered tf.function retracing. Tracing is expensive and the excessive number of tracings could be due to (1) creating @tf.function repeatedly in a loop, (2) passing tensors with different shapes, (3) passing Python objects instead of tensors. For (1), please define your @tf.function outside of the loop. For (2), @tf.function has reduce_retracing=True option that can avoid unnecessary retracing. For (3), please refer to https://www.tensorflow.org/guide/function#controlling_retracing and https://www.tensorflow.org/api_docs/python/tf/function for  more details.\n"
          ]
        },
        {
          "output_type": "stream",
          "name": "stdout",
          "text": [
            "1/1 [==============================] - 0s 396ms/step\n"
          ]
        }
      ]
    },
    {
      "cell_type": "markdown",
      "source": [
        "###결과"
      ],
      "metadata": {
        "id": "GuMarduQAiLh"
      }
    },
    {
      "cell_type": "code",
      "source": [
        "for i, word in enumerate(pred):\n",
        "    print(\" \".join([idx2char[c] for c in np.argmax(word, axis = 1)]))"
      ],
      "metadata": {
        "colab": {
          "base_uri": "https://localhost:8080/"
        },
        "id": "9lRsgFfCAj2P",
        "outputId": "4feb158b-cef1-4fe6-b270-57548347a541"
      },
      "execution_count": 56,
      "outputs": [
        {
          "output_type": "stream",
          "name": "stdout",
          "text": [
            "토 마 토 를 먹 자\n"
          ]
        }
      ]
    },
    {
      "cell_type": "code",
      "source": [],
      "metadata": {
        "id": "3Vnme6ddAkjR"
      },
      "execution_count": null,
      "outputs": []
    }
  ]
}